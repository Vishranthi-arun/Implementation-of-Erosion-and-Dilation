{
 "cells": [
  {
   "cell_type": "code",
   "execution_count": 1,
   "id": "55f9174c",
   "metadata": {},
   "outputs": [],
   "source": [
    "import cv2\n",
    "import numpy as np\n",
    "import matplotlib.pyplot as plt"
   ]
  },
  {
   "cell_type": "code",
   "execution_count": 2,
   "id": "14d26b35",
   "metadata": {},
   "outputs": [],
   "source": [
    "# Create the Text using cv2.putText\n",
    "text_image = np.zeros((100,440),dtype = 'uint8')\n",
    "img=cv2.cvtColor(text_image,cv2.COLOR_BGR2RGB)\n",
    "font = cv2.FONT_HERSHEY_SIMPLEX = 3\n",
    "cv2.putText(img,\"Vishranthi A\",(5,70),font,2,(0,0,255),5,cv2.LINE_AA)\n",
    "cv2.imshow(\"Original Image\",img)\n",
    "cv2.waitKey(0)\n",
    "cv2.destroyAllWindows()"
   ]
  },
  {
   "cell_type": "code",
   "execution_count": 3,
   "id": "51c9eb13",
   "metadata": {},
   "outputs": [],
   "source": [
    "# Create the structuring element\n",
    "kernel = cv2.getStructuringElement(cv2.MORPH_CROSS,(7,7))"
   ]
  },
  {
   "cell_type": "code",
   "execution_count": 4,
   "id": "99d6d026",
   "metadata": {},
   "outputs": [],
   "source": [
    "# Erode the image\n",
    "image_erode = cv2.erode(img,kernel)\n",
    "cv2.imshow(\"Eroded Image\",image_erode)\n",
    "cv2.waitKey(0)\n",
    "cv2.destroyAllWindows()"
   ]
  },
  {
   "cell_type": "code",
   "execution_count": null,
   "id": "5ff0ce23",
   "metadata": {},
   "outputs": [],
   "source": [
    "# Dilate the image\n",
    "image_dilate = cv2.dilate(img,kernel)\n",
    "cv2.imshow(\"Dilated Image\",image_dilate)\n",
    "cv2.waitKey(0)\n",
    "cv2.destroyAllWindows()"
   ]
  },
  {
   "cell_type": "code",
   "execution_count": null,
   "id": "0457d47f",
   "metadata": {},
   "outputs": [],
   "source": []
  }
 ],
 "metadata": {
  "kernelspec": {
   "display_name": "Python 3 (ipykernel)",
   "language": "python",
   "name": "python3"
  },
  "language_info": {
   "codemirror_mode": {
    "name": "ipython",
    "version": 3
   },
   "file_extension": ".py",
   "mimetype": "text/x-python",
   "name": "python",
   "nbconvert_exporter": "python",
   "pygments_lexer": "ipython3",
   "version": "3.9.13"
  }
 },
 "nbformat": 4,
 "nbformat_minor": 5
}
